{
 "cells": [
  {
   "cell_type": "markdown",
   "id": "9c8cb7cc",
   "metadata": {},
   "source": [
    "# Preliminary notes\n",
    "\n",
    "\n",
    "### 1. Do not be afraid of python\n",
    "\n",
    "WannierBerri is provided as a python module. This means that unlike QE or Wannier90, there is no distinction between \"program\" and input files. All input parameters are provided as arguments to calls of functions and class constructors. (While Wannier function's data is read from the files provided by Wanier90. This may sound (and look) scary to those who never used python (or never coded at all). But please, do not stand up and leave the classroom :)\n",
    "\n",
    "At first, you may use the templates given in the tutorials and modify only those parameters that you understand. The more you learn python, the more advantages you may get from the code. \n",
    "\n",
    "In fact, the border between \"using\" and \"coding\" becomes smeared. In one of the advanced tutorials, it is demonstrated how one can compute quantities that are not yet implemented in WannierBerri, without actually modifying the source code of the package itself.\n",
    "\n",
    "### 2. Jupyter Notebooks\n",
    "\n",
    "In this tutorial, we work with a Jupyter notebook. This is a convenient interactive environment that allows you to play with the code. For production runs, you may want to combine your workflow in one python script and execute it on a (super)computer\n",
    "\n",
    "\n",
    "### 3. Documentation \n",
    "\n",
    "A detailed description of parameters is in https://wannier-berri.org/documentation.html\n",
    "\n",
    "Note : also check the parameters of a parent class!\n",
    "\n",
    "### 4. New interface\n",
    "\n",
    "Those who are already familiar with WB, know that one should use [integrate()](https://wannier-berri.org/docs/oldAPI.html#wannierberri.integrate) or [tabulate()](https://wannier-berri.org/docs/oldAPI.html#wannierberri.tabulate) functions to run calculations. In the new version, they are substituted by  the [run()](https://wannier-berri.org/docs/run.html). This interface looks to be less laconic for basic calculations, but for advanced uses, it provides a powerful tool to pass different parameters to different calculations.\n",
    "\n",
    "### 5. Feedback \n",
    "\n",
    "If you have questions or comments after this tutorial is over, use the following ways of communication:\n",
    "\n",
    "* Discussions or Issues on GitHub : https://github.com/wannier-berri/wannier-berri/discussions\n",
    "\n",
    "* mailing list : https://physik.lists.uzh.ch/sympa/info/wannier-berri\n",
    "\n",
    "\n"
   ]
  },
  {
   "cell_type": "markdown",
   "id": "5c672203",
   "metadata": {},
   "source": [
    "# Tutorial on Wannier Berri : interpolating bands, Berry curvatures, and integrating them\n",
    "\n",
    "In this tutorial we will see how to compute band energies, Berry curvature, spins and anomalous Hall conductivity  using WannierBerri code and further integrate them over the Brillouin zone to obtain Anomalous Hall conductivity, and other quantities of interest.\n",
    "\n",
    "## Preparation of a calculation:\n",
    "\n",
    "* import the needed modules\n",
    "\n",
    "* initialize a [Parallel() or Serial()](https://wannier-berri.org/docs/parallel.html) class \n"
   ]
  },
  {
   "cell_type": "code",
   "execution_count": 4,
   "id": "51420b21",
   "metadata": {
    "jupyter": {
     "outputs_hidden": true
    },
    "tags": []
   },
   "outputs": [
    {
     "name": "stdout",
     "output_type": "stream",
     "text": [
      "Using WannierBerri version 0.13.2\n"
     ]
    },
    {
     "name": "stderr",
     "output_type": "stream",
     "text": [
      "2022-06-09 20:21:09,475\tINFO services.py:1456 -- View the Ray dashboard at \u001b[1m\u001b[32mhttp://127.0.0.1:8265\u001b[39m\u001b[22m\n"
     ]
    }
   ],
   "source": [
    "# Preliminary \n",
    "\n",
    "# Set environment variables - not mandatory but recommended if you use Parallel()\n",
    "#import os\n",
    "#os.environ['OPENBLAS_NUM_THREADS'] = '1' \n",
    "#os.environ['MKL_NUM_THREADS'] = '1'\n",
    "\n",
    "\n",
    "import wannierberri as wberri\n",
    "print (f\"Using WannierBerri version {wberri.__version__}\")\n",
    "import numpy as np\n",
    "import scipy\n",
    "import matplotlib.pyplot as plt\n",
    "from termcolor import cprint\n",
    "\n",
    "#  This block is needed if you run this cell for a second time\n",
    "#  because one cannot initiate two parallel environments at a time\n",
    "try:\n",
    "    parallel.shutdown()   \n",
    "except NameError:\n",
    "    pass\n",
    "\n",
    "# Chiose one of the options:\n",
    "\n",
    "#parallel = wberri.Parallel(num_cpus=2)\n",
    "parallel = wberri.Parallel()  # automatic detection \n",
    "#parallel = wberri.Serial()\n",
    "\n"
   ]
  },
  {
   "cell_type": "markdown",
   "id": "1ac49c1e",
   "metadata": {},
   "source": [
    "## Reading the system\n",
    "\n",
    "Now we need to define the system that we are working on. Wannierberri can equally work with Wannier functions obtained by Wannier90 or other code (e.g. ASE or FPLO), as well as tight-binding models. This is done by constructing a [System()](https://wannier-berri.org/docs/system.html) class or one of its subclasses. Below, an example for Wannier90 is given; in advanced tutorials, some tight-binding models are also used."
   ]
  },
  {
   "cell_type": "code",
   "execution_count": 5,
   "id": "7077f8b8",
   "metadata": {},
   "outputs": [
    {
     "name": "stdout",
     "output_type": "stream",
     "text": [
      "using fortio to read\n",
      "Reading restart information from file w90_files/Fe.chk :\n",
      "Time to read .chk : 0.32897067070007324\n",
      "Time for MMN.__init__() : 1.0343718528747559 , read : 1.004758596420288 , headstring 0.029613256454467773\n",
      "----------\n",
      " SPN  \n",
      "---------\n",
      "\n",
      "using fortio to read\n",
      "reading w90_files/Fe.spn : Created on  7May2022 at 16: 2:47                            \n",
      "----------\n",
      " SPN OK  \n",
      "---------\n",
      "\n",
      "time for FFT_q_to_R : 0.16951322555541992 s\n",
      "using ws_distance\n",
      "irvec_new_all shape (89,)\n",
      "using ws_dist for Ham_R\n",
      "using ws_dist for AA_R\n",
      "using ws_dist for SS_R\n",
      "Number of wannier functions: 18\n",
      "Number of R points: 89\n",
      "Recommended size of FFT grid [4 4 4]\n",
      "Real-space lattice:\n",
      " [[ 1.4349963  1.4349963  1.4349963]\n",
      " [-1.4349963  1.4349963  1.4349963]\n",
      " [-1.4349963 -1.4349963  1.4349963]]\n"
     ]
    }
   ],
   "source": [
    "# Importing data from wannier90\n",
    "\n",
    "system=wberri.System_w90(\n",
    "                        seedname='w90_files/Fe',\n",
    "                        berry=True,   # needed to calculate \"external terms\" of Berry connection or curvature , reads \".mmn\" file\n",
    "                        spin = True , # needed for spin properties, reads \".spn\" file\n",
    "                        use_wcc_phase=True  # include the fphase actors e^(i*k*r_a) in the Bloch basis state definition\n",
    "                        )\n",
    "\n",
    "generators=[\"Inversion\",\"C4z\",\"TimeReversal*C2x\"]\n",
    "system.set_symmetry(generators)\n"
   ]
  },
  {
   "cell_type": "markdown",
   "id": "a078f485",
   "metadata": {},
   "source": [
    "## Interpolation on a path"
   ]
  },
  {
   "cell_type": "code",
   "execution_count": 6,
   "id": "19a0b6bc",
   "metadata": {
    "jupyter": {
     "outputs_hidden": true
    },
    "tags": []
   },
   "outputs": [],
   "source": [
    "# Evaluate bands, Berry curvature, and spin along a path GHPNG\n",
    "\n",
    "\n",
    "# all kpoints given in reduced coordinates\n",
    "path=wberri.Path(system,\n",
    "                 k_nodes=[\n",
    "        [0.0000, 0.0000, 0.0000 ],   #  G \n",
    "        [0.500 ,-0.5000, -0.5000],   #  H \n",
    "        [0.7500, 0.2500, -0.2500],   #  P \n",
    "        [0.5000, 0.0000, -0.5000],   #  N \n",
    "        [0.0000, 0.0000, 0.000  ] ] , #  G \n",
    "                 labels=[\"G\",\"H\",\"P\",\"N\",\"G\"],\n",
    "                 length=200 )   # length [ Ang] ~= 2*pi/dk\n",
    "\n",
    "# uncomment some of these lines to see what path you have generated\n",
    "\n",
    "#print (path)\n",
    "\n",
    "#print (path.getKline())\n",
    "\n",
    "#for K in path.get_K_list():\n",
    "#    print (K)\n",
    "\n",
    "#print (np.array([K.K for K in path.get_K_list()]))\n",
    "\n"
   ]
  },
  {
   "cell_type": "markdown",
   "id": "db5bc37c",
   "metadata": {},
   "source": [
    "## Running a calculation: calculators and results\n",
    "\n",
    "The calculation is called using the function [`run()`](https://wannier-berri.org/docs/run.html) : \n",
    "\n",
    "```\n",
    "result=wberri.run(system, \n",
    "                  grid=path, \n",
    "                  calculators = {\"key\" : calculator},\n",
    "                  parallel = parallel, \n",
    "                  print_Kpoints = False)\n",
    "```\n",
    "Here, apart from the already known ingredients, we need to define objects of some subclass of [`Calculator`](https://wannier-berri.org/docs/calculators.html#wannierberri.calculators.Calculator). A Calculator is a  callable object which returns some [`Result`](https://wannier-berri.org/docs/result.html). If you code another calculator, you can calculate other things using the machinery of WannierBerri, but that is not a part of this basic tutorial. \n",
    "\n",
    "Further, results are packed into [`ResultDict`](https://wannier-berri.org/docs/result.html#wannierberri.result.ResultDict) and returned. \n",
    "\n",
    "\n",
    "## Tabulating Berry curvature and spin\n",
    "\n",
    "To run a tabulation one needs to compose a dictionary, where keys are any arbitrary strings to label further tabulation results, and the values are subclasses of [`Tabulator`](https://wannier-berri.org/docs/calculators.html#wannierberri.calculators.tabulate.Tabulator)\n",
    "\n",
    "Next, we pack them into another class called [`TabulatorAll`](https://wannier-berri.org/docs/calculators.html#wannierberri.calculators.TabulatorAll), which represents a complex [`Calculator`](https://wannier-berri.org/docs/calculators.html#wannierberri.calculators.Calculator)"
   ]
  },
  {
   "cell_type": "code",
   "execution_count": 7,
   "id": "9afa58e7",
   "metadata": {},
   "outputs": [
    {
     "name": "stdout",
     "output_type": "stream",
     "text": [
      "\u001b[1m\u001b[36mcalculator not described\n",
      "\u001b[0m\n",
      "\u001b[1m\u001b[36mcalculator not described\n",
      "\u001b[0m\n"
     ]
    }
   ],
   "source": [
    "\n",
    "tabulators = { \"Energy\": wberri.calculators.tabulate.Energy(),\n",
    "               \"berry\" : wberri.calculators.tabulate.BerryCurvature(),\n",
    "             }\n",
    "\n",
    "tab_all_path = wberri.calculators.TabulatorAll(\n",
    "                    tabulators,\n",
    "                    ibands = np.arange(0,18),\n",
    "                    mode = \"path\"\n",
    "                        )"
   ]
  },
  {
   "cell_type": "markdown",
   "id": "e94036a7",
   "metadata": {},
   "source": [
    "## Running a calculation\n",
    "\n",
    "Now run the calculation using the function [`run()`](https://wannier-berri.org/docs/run.html) . This will return an object of class [`ResultDict()`](https://wannier-berri.org/docs/result.html#wannierberri.result.ResultDict)\n",
    "This object contains all results of the calculations, but in this case we have only one, which is marked `\"tabulate\"`\n"
   ]
  },
  {
   "cell_type": "code",
   "execution_count": 8,
   "id": "08b2f3e1",
   "metadata": {},
   "outputs": [
    {
     "name": "stdout",
     "output_type": "stream",
     "text": [
      "Calculation along a path - checking calculators for compatibility\n",
      "tabulate <wannierberri.calculators.TabulatorAll object at 0x7fef6026fb50>\n",
      "All calculators are compatible\n",
      "Symmetrization switched off for Path\n",
      "The set of k points is a Path() with 215 points and labels {0: 'G', 70: 'H', 130: 'P', 165: 'N', 214: 'G'}\n",
      "WARNING : symmetry is not used for a tabulation along path\n",
      "generating K_list\n",
      "Done \n",
      "Done, sum of weights:215.0\n",
      "symgroup : None\n",
      "processing 215 K points : using  2 processes.\n",
      "# K-points calculated  Wall time (sec)  Est. remaining (sec)\n",
      "                   2              1.6                 168.4\n",
      "                   4              1.6                  85.0\n",
      "                   6              1.7                  57.6\n",
      "                   8              1.7                  43.7\n",
      "                  10              1.7                  35.6\n",
      "                  12              1.8                  30.0\n",
      "                  14              1.8                  25.9\n",
      "                  16              1.9                  23.1\n",
      "                  18              1.9                  20.8\n",
      "                  20              1.9                  18.9\n",
      "                  22              2.0                  17.4\n",
      "                  24              2.0                  16.2\n",
      "                  26              2.1                  15.1\n",
      "                  28              2.1                  14.1\n",
      "                  30              2.2                  13.3\n",
      "                  32              2.2                  12.7\n",
      "                  34              2.3                  12.0\n",
      "                  36              2.3                  11.4\n",
      "                  38              2.3                  10.9\n",
      "                  40              2.4                  10.5\n",
      "                  42              2.4                  10.1\n",
      "                  44              2.5                   9.7\n",
      "                  46              2.6                   9.4\n",
      "                  48              2.6                   9.1\n",
      "                  50              2.7                   8.8\n",
      "                  52              2.7                   8.4\n",
      "                  54              2.7                   8.1\n",
      "                  56              2.8                   7.8\n",
      "                  58              2.8                   7.6\n",
      "                  60              2.9                   7.4\n",
      "                  62              2.9                   7.2\n",
      "                  64              3.0                   7.0\n",
      "                  66              3.0                   6.8\n",
      "                  68              3.1                   6.6\n",
      "                  70              3.1                   6.4\n",
      "                  72              3.2                   6.3\n",
      "                  74              3.2                   6.1\n",
      "                  76              3.2                   5.9\n",
      "                  78              3.3                   5.8\n",
      "                  80              3.3                   5.6\n",
      "                  82              3.4                   5.5\n",
      "                  84              3.4                   5.4\n",
      "                  86              3.5                   5.2\n",
      "                  88              3.5                   5.1\n",
      "                  90              3.6                   5.0\n",
      "                  92              3.6                   4.8\n",
      "                  94              3.7                   4.7\n",
      "                  96              3.7                   4.6\n",
      "                  98              3.8                   4.5\n",
      "                 100              3.8                   4.4\n",
      "                 102              3.9                   4.3\n",
      "                 104              3.9                   4.2\n",
      "                 106              3.9                   4.1\n",
      "                 108              4.0                   4.0\n",
      "                 110              4.1                   3.9\n",
      "                 112              4.1                   3.8\n",
      "                 114              4.1                   3.7\n",
      "                 116              4.2                   3.6\n",
      "                 118              4.2                   3.5\n",
      "                 120              4.3                   3.4\n",
      "                 122              4.3                   3.3\n",
      "                 124              4.4                   3.2\n",
      "                 126              4.4                   3.1\n",
      "                 128              4.5                   3.0\n",
      "                 130              4.5                   3.0\n",
      "                 132              4.6                   2.9\n",
      "                 134              4.6                   2.8\n",
      "                 136              4.7                   2.7\n",
      "                 138              4.7                   2.6\n",
      "                 140              4.7                   2.5\n",
      "                 142              4.8                   2.5\n",
      "                 144              4.8                   2.4\n",
      "                 146              4.9                   2.3\n",
      "                 148              4.9                   2.2\n",
      "                 150              5.0                   2.2\n",
      "                 152              5.0                   2.1\n",
      "                 154              5.1                   2.0\n",
      "                 156              5.1                   1.9\n",
      "                 158              5.1                   1.9\n",
      "                 160              5.2                   1.8\n",
      "                 162              5.2                   1.7\n",
      "                 164              5.3                   1.6\n",
      "                 166              5.3                   1.6\n",
      "                 168              5.4                   1.5\n",
      "                 170              5.4                   1.4\n",
      "                 172              5.5                   1.4\n",
      "                 174              5.5                   1.3\n",
      "                 176              5.5                   1.2\n",
      "                 178              5.6                   1.2\n",
      "                 180              5.6                   1.1\n",
      "                 182              5.7                   1.0\n",
      "                 184              5.7                   1.0\n",
      "                 186              5.8                   0.9\n",
      "                 188              5.8                   0.8\n",
      "                 190              5.9                   0.8\n",
      "                 192              5.9                   0.7\n",
      "                 194              6.0                   0.6\n",
      "                 196              6.0                   0.6\n",
      "                 198              6.0                   0.5\n",
      "                 200              6.1                   0.5\n",
      "                 202              6.1                   0.4\n",
      "                 204              6.2                   0.3\n",
      "                 206              6.2                   0.3\n",
      "                 208              6.3                   0.2\n",
      "                 210              6.3                   0.2\n",
      "                 212              6.4                   0.1\n",
      "                 214              6.4                   0.0\n",
      "time for processing    215 K-points on   2 processes:     6.4549 ; per K-point          0.0300 ; proc-sec per K-point          0.0600\n",
      "time1 =  0.025644779205322266\n",
      "Totally processed 215 K-points \n",
      "{'tabulate': <wannierberri.result.__tabresult.TABresult object at 0x7fef263a8f10>}\n"
     ]
    }
   ],
   "source": [
    "result=wberri.run(system, \n",
    "                  grid=path, \n",
    "                  calculators = {\"tabulate\" : tab_all_path},\n",
    "                  parallel = parallel, \n",
    "                  print_Kpoints = False)\n",
    "\n",
    "print (result.results)\n",
    "path_result = result.results[\"tabulate\"]\n"
   ]
  },
  {
   "cell_type": "markdown",
   "id": "7297f47d",
   "metadata": {},
   "source": [
    "## Plotting the results\n",
    "\n",
    "The [`TABresult`](https://wannier-berri.org/docs/result.html#wannierberri.result.TABresult) object already provides methods to plot the results. (As well as one can extract the data and plot them by other means). Below let's plot the interpolated bands and compare with those obtained in QE. (file \"bands/Fe_bands_pw.dat\" is already provided)\n"
   ]
  },
  {
   "cell_type": "code",
   "execution_count": 9,
   "id": "c3fd8111",
   "metadata": {},
   "outputs": [
    {
     "data": {
      "image/png": "[encoded data removed]",
      "text/plain": [
       "<Figure size 432x288 with 1 Axes>"
      ]
     },
     "metadata": {
      "needs_background": "light"
     },
     "output_type": "display_data"
    }
   ],
   "source": [
    "# plot the bands and compare with QuantumEspresso\n",
    "EF = 12.6\n",
    "path_result = result.results[\"tabulate\"]\n",
    "# Import the pre-computed bands from quantum espresso\n",
    "A = np.loadtxt(open(\"bands/Fe_bands_pw.dat\",\"r\"))\n",
    "bohr_ang = scipy.constants.physical_constants['Bohr radius'][0] / 1e-10\n",
    "alatt = 5.4235* bohr_ang\n",
    "A[:,0]*= 2*np.pi/alatt\n",
    "A[:,1]-=EF\n",
    "# plot it as dots\n",
    "plt.scatter (A[:,0],A[:,1],s=5,label = \"QE\")\n",
    "\n",
    "\n",
    "path_result.plot_path_fat( path,\n",
    "              quantity=None,\n",
    "              save_file=\"Fe_bands+QE.pdf\",\n",
    "              Eshift=EF,\n",
    "              Emin=-10,  Emax=50,\n",
    "              iband=None,\n",
    "              mode=\"fatband\",\n",
    "              fatfactor=20,\n",
    "              cut_k=False, \n",
    "              close_fig=False,\n",
    "              show_fig=False,\n",
    "              label = \"WB\"\n",
    "              )\n",
    "\n",
    "\n",
    "plt.legend()\n",
    "plt.show()\n",
    "plt.close()\n"
   ]
  },
  {
   "cell_type": "code",
   "execution_count": 10,
   "id": "97582a5f",
   "metadata": {},
   "outputs": [
    {
     "data": {
      "image/png": "[encoded data removed]",
      "text/plain": [
       "<Figure size 432x288 with 1 Axes>"
      ]
     },
     "metadata": {
      "needs_background": "light"
     },
     "output_type": "display_data"
    }
   ],
   "source": [
    "# plot the bands and compare with wannier90\n",
    "A = np.loadtxt(open(\"bands/Fe_bands_w90.dat\",\"r\"))\n",
    "plt.scatter (A[:,0],A[:,1],s=5,label = \"W90\")\n",
    "\n",
    "path_result.plot_path_fat( path,\n",
    "              quantity=None,\n",
    "              save_file=\"Fe_bands+w90.pdf\",\n",
    "              Eshift=0,\n",
    "              Emin=4,  Emax=20,\n",
    "              iband=None,\n",
    "              mode=\"fatband\",\n",
    "              fatfactor=20,\n",
    "              cut_k=False, \n",
    "              close_fig=False,\n",
    "              show_fig=False,\n",
    "              label = \"WB\"\n",
    "              )\n",
    "\n",
    "plt.legend()\n",
    "\n",
    "plt.show()\n",
    "plt.close()"
   ]
  },
  {
   "cell_type": "code",
   "execution_count": 11,
   "id": "7557e404",
   "metadata": {},
   "outputs": [
    {
     "data": {
      "image/png": "[encoded data removed]",
      "text/plain": [
       "<Figure size 432x288 with 1 Axes>"
      ]
     },
     "metadata": {
      "needs_background": "light"
     },
     "output_type": "display_data"
    }
   ],
   "source": [
    "# plot the Berry curvature\n",
    "path_result.plot_path_fat( path,\n",
    "              quantity='berry',\n",
    "              component='z',\n",
    "              save_file=\"Fe_bands+berry.pdf\",\n",
    "              Eshift=0,\n",
    "              Emin=4,  Emax=20,\n",
    "              iband=None,\n",
    "              mode=\"fatband\",\n",
    "              fatfactor=4,\n",
    "              cut_k=False, \n",
    "              close_fig=True,\n",
    "              show_fig=True\n",
    "              )\n",
    "\n",
    "# The size of the dots corresponds to the magnitude of BC on a logarithmic scale"
   ]
  },
  {
   "cell_type": "markdown",
   "id": "322c4be7",
   "metadata": {},
   "source": [
    "## Problem 1:\n",
    "\n",
    "* modify the path\n",
    "* plot the \"z\" component of spin along it (without . \n",
    "* do **not** plot QE or W90 bands in this case\n",
    "\n",
    "Hint : look here for a proper Calculator https://wannier-berri.org/docs/calculators.html#tabulating\n"
   ]
  },
  {
   "cell_type": "code",
   "execution_count": 12,
   "id": "fcc324ce",
   "metadata": {},
   "outputs": [],
   "source": [
    "# put the necessary code here\n",
    "\n",
    "\n",
    "\n",
    "\n"
   ]
  },
  {
   "cell_type": "markdown",
   "id": "10269bf5",
   "metadata": {},
   "source": [
    "## Get the data and do whatever you want"
   ]
  },
  {
   "cell_type": "code",
   "execution_count": 13,
   "id": "0b8eb3e1",
   "metadata": {},
   "outputs": [
    {
     "name": "stdout",
     "output_type": "stream",
     "text": [
      "(215,) (215, 2) (215, 2)\n"
     ]
    }
   ],
   "source": [
    "k=path.getKline()\n",
    "E=path_result.get_data(quantity='Energy',iband=(10,11))\n",
    "curv=path_result.get_data(quantity='berry',iband=(10,11),component=\"z\")\n",
    "print (k.shape, E.shape, curv.shape)"
   ]
  },
  {
   "cell_type": "markdown",
   "id": "b3f51b39",
   "metadata": {},
   "source": [
    "## Calaculation on a 3D grid\n",
    "\n",
    "Now let's investigate how Berry curvature behaves in the 3D  Brillouin zone. For that we need to set a grid, which can be done in several ways, see input parameters [here](file:///home/stepan/github/wannier-berri-org/html/docs/grid.html)\n",
    "\n",
    "Most important to recall, is that in WB one sets two grids : the FFT grid and the K-grid (NKdiv). this is important for running the calculation. However, the final; result depends only on their product. "
   ]
  },
  {
   "cell_type": "code",
   "execution_count": 14,
   "id": "0c6430df",
   "metadata": {},
   "outputs": [
    {
     "name": "stdout",
     "output_type": "stream",
     "text": [
      "determining grids from NK=None (<class 'NoneType'>), NKdiv=None (<class 'NoneType'>), NKFFT=None (<class 'NoneType'>)\n",
      "length=50 was converted into NK=[25 25 25]\n",
      "Minimal symmetric FFT grid :  [4 4 4]\n",
      "The grids were set to NKdiv=[5 5 5], NKFFT=[5 5 5], NKtot=[25 25 25]\n"
     ]
    }
   ],
   "source": [
    "# Set a grid \n",
    "grid = wberri.Grid(system, length=50 )   # length [ Ang] ~= 2*pi/dk\n",
    "#grid = wberri.Grid(system, NK=[24,24,24], NKFFT=4)\n",
    "#grid = wberri.Grid(system, NKdiv=6, NKFFT=4)\n",
    "\n",
    "\n",
    "\n"
   ]
  },
  {
   "cell_type": "markdown",
   "id": "fb68ba66",
   "metadata": {},
   "source": [
    "### We can use the same tabulators, but now we pack them into TabulatorAll in \"grid\" mode"
   ]
  },
  {
   "cell_type": "code",
   "execution_count": 15,
   "id": "78d77a38",
   "metadata": {},
   "outputs": [
    {
     "name": "stdout",
     "output_type": "stream",
     "text": [
      "\u001b[1m\u001b[36mcalculator not described\n",
      "\u001b[0m\n",
      "\u001b[1m\u001b[36mcalculator not described\n",
      "\u001b[0m\n"
     ]
    }
   ],
   "source": [
    "tabulators = { \"Energy\": wberri.calculators.tabulate.Energy(),\n",
    "               \"berry\" : wberri.calculators.tabulate.BerryCurvature(),\n",
    "             }\n",
    "\n",
    "tab_all_grid = wberri.calculators.TabulatorAll(\n",
    "                    tabulators,\n",
    "                    ibands = np.arange(0,18),\n",
    "                    mode = \"grid\"\n",
    "                        )"
   ]
  },
  {
   "cell_type": "markdown",
   "id": "6f7a1fdd",
   "metadata": {},
   "source": [
    "### And we run the calculation in the same way"
   ]
  },
  {
   "cell_type": "code",
   "execution_count": 16,
   "id": "c2041c87",
   "metadata": {},
   "outputs": [
    {
     "name": "stdout",
     "output_type": "stream",
     "text": [
      "Grid is regular\n",
      "The set of k points is a Grid() with NKdiv=[5 5 5], NKFFT=[5 5 5], NKtot=[25 25 25]\n",
      "generating K_list\n",
      "Done in 0.002190113067626953 s \n",
      "excluding symmetry-equivalent K-points from initial grid\n",
      "Done in 0.016268014907836914 s \n",
      "Done in 0.016317367553710938 s \n",
      "K_list contains 18 Irreducible points(14.4%) out of initial 5x5x5=125 grid\n",
      "Done, sum of weights:1.0000000000000004\n",
      "iteration 0 - 18 points. New points are:\n",
      " K-point 0 : coord in rec.lattice = [   0.000000  ,   0.000000 ,    0.000000 ], refinement level:0, dK=[0.2 0.2 0.2]  \n",
      " K-point 1 : coord in rec.lattice = [   0.000000  ,   0.200000 ,    0.000000 ], refinement level:0, dK=[0.2 0.2 0.2]  \n",
      " K-point 2 : coord in rec.lattice = [   0.000000  ,   0.400000 ,    0.000000 ], refinement level:0, dK=[0.2 0.2 0.2]  \n",
      " K-point 3 : coord in rec.lattice = [   0.200000  ,   0.000000 ,    0.000000 ], refinement level:0, dK=[0.2 0.2 0.2]  \n",
      " K-point 4 : coord in rec.lattice = [   0.200000  ,   0.200000 ,    0.200000 ], refinement level:0, dK=[0.2 0.2 0.2]  \n",
      " K-point 5 : coord in rec.lattice = [   0.200000  ,   0.600000 ,    0.200000 ], refinement level:0, dK=[0.2 0.2 0.2]  \n",
      " K-point 6 : coord in rec.lattice = [   0.400000  ,   0.000000 ,    0.000000 ], refinement level:0, dK=[0.2 0.2 0.2]  \n",
      " K-point 7 : coord in rec.lattice = [   0.400000  ,   0.200000 ,    0.000000 ], refinement level:0, dK=[0.2 0.2 0.2]  \n",
      " K-point 8 : coord in rec.lattice = [   0.400000  ,   0.200000 ,    0.200000 ], refinement level:0, dK=[0.2 0.2 0.2]  \n",
      " K-point 9 : coord in rec.lattice = [   0.400000  ,   0.400000 ,    0.400000 ], refinement level:0, dK=[0.2 0.2 0.2]  \n",
      " K-point 10 : coord in rec.lattice = [   0.600000  ,   0.200000 ,    0.000000 ], refinement level:0, dK=[0.2 0.2 0.2]  \n",
      " K-point 11 : coord in rec.lattice = [   0.600000  ,   0.200000 ,    0.200000 ], refinement level:0, dK=[0.2 0.2 0.2]  \n",
      " K-point 12 : coord in rec.lattice = [   0.600000  ,   0.400000 ,    0.200000 ], refinement level:0, dK=[0.2 0.2 0.2]  \n",
      " K-point 13 : coord in rec.lattice = [   0.600000  ,   0.400000 ,    0.400000 ], refinement level:0, dK=[0.2 0.2 0.2]  \n",
      " K-point 14 : coord in rec.lattice = [   0.800000  ,   0.200000 ,    0.000000 ], refinement level:0, dK=[0.2 0.2 0.2]  \n",
      " K-point 15 : coord in rec.lattice = [   0.800000  ,   0.200000 ,    0.200000 ], refinement level:0, dK=[0.2 0.2 0.2]  \n",
      " K-point 16 : coord in rec.lattice = [   0.800000  ,   0.400000 ,    0.000000 ], refinement level:0, dK=[0.2 0.2 0.2]  \n",
      " K-point 17 : coord in rec.lattice = [   0.800000  ,   0.400000 ,    0.200000 ], refinement level:0, dK=[0.2 0.2 0.2]  \n",
      "symgroup : <wannierberri.symmetry.Group object at 0x7fef2a3a7b80>\n",
      "processing 18 K points : using  2 processes.\n",
      "# K-points calculated  Wall time (sec)  Est. remaining (sec)\n",
      "                   2              0.7                   5.8\n",
      "                   4              1.4                   5.0\n",
      "                   6              2.1                   4.1\n",
      "                   8              2.8                   3.5\n",
      "                  10              3.4                   2.7\n",
      "                  12              4.1                   2.0\n",
      "                  14              4.7                   1.3\n",
      "                  16              5.3                   0.7\n",
      "time for processing     18 K-points on   2 processes:     6.8316 ; per K-point          0.3795 ; proc-sec per K-point          0.7591\n",
      "time1 =  0.019936084747314453\n",
      "setting the grid\n",
      "setting new kpoints\n",
      "finding equivalent kpoints\n",
      "collecting\n",
      "collecting: to_grid  : 0.3238046169281006\n",
      "collecting: TABresult  : 0.0018298625946044922\n",
      "collecting - OK : 0.32567477226257324 (4.029273986816406e-05)\n",
      "using a pool of 8 processes to write txt frmsf of 35157 points per process\n",
      "using a pool of 8 processes to write txt frmsf of 35157 points per process\n",
      "using a pool of 8 processes to write txt frmsf of 35157 points per process\n",
      "using a pool of 8 processes to write txt frmsf of 35157 points per process\n",
      "using a pool of 8 processes to write txt frmsf of 35157 points per process\n",
      "using a pool of 8 processes to write txt frmsf of 35157 points per process\n",
      "using a pool of 8 processes to write txt frmsf of 35157 points per process\n",
      "using a pool of 8 processes to write txt frmsf of 35157 points per process\n",
      "using a pool of 8 processes to write txt frmsf of 35157 points per process\n",
      "Totally processed 18 K-points \n",
      "{'tabulate': <wannierberri.result.__tabresult.TABresult object at 0x7fee5a5bc2e0>}\n"
     ]
    }
   ],
   "source": [
    "result=wberri.run(system, \n",
    "                  grid=grid, \n",
    "                  calculators = {\"tabulate\" : tab_all_grid},\n",
    "                  parallel = parallel, \n",
    "                  print_Kpoints = True)\n",
    "\n",
    "print (result.results)\n",
    "grid_result = result.results[\"tabulate\"]"
   ]
  },
  {
   "cell_type": "code",
   "execution_count": 17,
   "id": "3d8142e6",
   "metadata": {},
   "outputs": [
    {
     "name": "stdout",
     "output_type": "stream",
     "text": [
      "-rw-rw-r-- 1 stepan stepan 6593508 Jun  9 20:21 result-tabulate_berry-x.frmsf\r\n",
      "-rw-rw-r-- 1 stepan stepan 6593394 Jun  9 20:21 result-tabulate_berry-y.frmsf\r\n",
      "-rw-rw-r-- 1 stepan stepan 6595943 Jun  9 20:21 result-tabulate_berry-z.frmsf\r\n",
      "-rw-rw-r-- 1 stepan stepan 3335355 Jun  9 20:21 result-tabulate_E.frmsf\r\n",
      "-rw-rw-r-- 1 stepan stepan 6670549 Jun  9 20:21 result-tabulate_Energy-.frmsf\r\n"
     ]
    }
   ],
   "source": [
    "# Now we got some .frmsf files\n",
    "!ls -al *.frmsf\n",
    "#!rm *.frmsf"
   ]
  },
  {
   "cell_type": "code",
   "execution_count": 18,
   "id": "57b62c3d",
   "metadata": {},
   "outputs": [],
   "source": [
    "# let's look at them using the Fermisurfer! (https://fermisurfer.osdn.jp/)\n",
    "#> fermisurfer Fe_berry_z.frmsf"
   ]
  },
  {
   "cell_type": "markdown",
   "id": "6dcc1b97",
   "metadata": {},
   "source": [
    "## Analyze the tabulated data"
   ]
  },
  {
   "cell_type": "code",
   "execution_count": 19,
   "id": "01dbb61b",
   "metadata": {},
   "outputs": [
    {
     "name": "stdout",
     "output_type": "stream",
     "text": [
      "(25, 25, 25) (25, 25, 25)\n"
     ]
    }
   ],
   "source": [
    "# You may get the data as numpy arrays via:\n",
    "Energy = grid_result.get_data(iband=5, quantity='Energy')\n",
    "berry  = grid_result.get_data(iband=5, quantity='berry',component='z')\n",
    "print(berry.shape,Energy.shape)"
   ]
  },
  {
   "cell_type": "markdown",
   "id": "dae06314",
   "metadata": {},
   "source": [
    "## Problem 2 : \n",
    "\n",
    "### fill the missing parts and evaluate the Berry curvature summed over all states below EF = 12.6 eV. Plot in on a plane k3=const (in reduced coordinates)"
   ]
  },
  {
   "cell_type": "code",
   "execution_count": 21,
   "id": "5dd4d673",
   "metadata": {},
   "outputs": [
    {
     "name": "stderr",
     "output_type": "stream",
     "text": [
      "/tmp/ipykernel_395236/2830663145.py:11: UserWarning: No contour levels were found within the data range.\n",
      "  plt.contour(Energy,levels = [EF],linewidths=0.5,colors='black')\n"
     ]
    },
    {
     "data": {
      "image/png": "[encoded data removed]",
      "text/plain": [
       "<Figure size 432x288 with 2 Axes>"
      ]
     },
     "metadata": {
      "needs_background": "light"
     },
     "output_type": "display_data"
    }
   ],
   "source": [
    "# example : find the total Berry curvature of occupied states\n",
    "# on the plane (k1,k2), k3=const (in reduced coordinates)\n",
    "Berry_occ = 0\n",
    "k3 = 9\n",
    "EF=12.4\n",
    "for ib in range(18):\n",
    "    Energy = grid_result.get_data(iband=ib, quantity='Energy')[:,:,0].copy()\n",
    "    berry  = grid_result.get_data(iband=ib, quantity='berry',component='z')[:,:,0].copy()\n",
    "    berry [Energy>EF] = 0\n",
    "    Berry_occ += berry\n",
    "    plt.contour(Energy,levels = [EF],linewidths=0.5,colors='black')\n",
    "shw = plt.imshow(Berry_occ,vmin=-10,vmax=10,cmap=\"jet\")\n",
    "bar = plt.colorbar(shw)"
   ]
  },
  {
   "cell_type": "markdown",
   "id": "3e3ba8da",
   "metadata": {},
   "source": [
    "## Integration on a grid: anomalous Hall conductivity\n",
    "\n",
    "Now, after we saw that the Berry curvature changes rapidly in the k-space, we understand that to get the precise value of AHC (\\ref{eq:ahc}) defined as a Fermi-sea integral of Berry curvature\n",
    "\n",
    "\\begin{equation}\n",
    "\\sigma^{\\rm AHC}_{xy} = -\\frac{e^2}{\\hbar} \\sum_n^{\\rm occ} \\int\\frac{d\\mathbf{k}}{(2\\pi)^3} \\Omega^n_\\gamma\n",
    "\\label{eq:ahc}\\tag{1}\n",
    "\\end{equation}\n",
    "\n",
    "we need a very dense grid. The calculation is done again, by using the calculators. AHC may be viewed as a function of the Fermi level. Such calculators are called [StaticCalculator](https://wannier-berri.org/docs/calculators.html#static-dependent-only-on-fermi-level) , because the corresponding effects can be measured in static fields. (as opposed to dynamic calculators, see below)."
   ]
  },
  {
   "cell_type": "code",
   "execution_count": 22,
   "id": "e13e4f23",
   "metadata": {},
   "outputs": [
    {
     "name": "stdout",
     "output_type": "stream",
     "text": [
      "determining grids from NK=None (<class 'NoneType'>), NKdiv=None (<class 'NoneType'>), NKFFT=None (<class 'NoneType'>)\n",
      "length=50 was converted into NK=[25 25 25]\n",
      "Minimal symmetric FFT grid :  [4 4 4]\n",
      "The grids were set to NKdiv=[5 5 5], NKFFT=[5 5 5], NKtot=[25 25 25]\n",
      "\u001b[1m\u001b[36mAnomalous Hall conductivity (:math:`s^3 \\cdot A^2 / (kg \\cdot m^3) = S/m`)\n",
      "\n",
      "        | With Fermi sea integral Eq(11) in `Ref <https://www.nature.com/articles/s41524-021-00498-5>`_\n",
      "        | Output: :math:`O = -e^2/\\hbar \\int [dk] \\Omega f`\n",
      "        | Instruction: :math:`j_\\alpha = \\sigma_{\\alpha\\beta} E_\\beta = \\epsilon_{\\alpha\\beta\\delta} O_\\delta E_\\beta`\n",
      "\u001b[0m\n",
      "Grid is regular\n",
      "The set of k points is a Grid() with NKdiv=[5 5 5], NKFFT=[5 5 5], NKtot=[25 25 25]\n",
      "generating K_list\n",
      "Done in 0.0023527145385742188 s \n",
      "excluding symmetry-equivalent K-points from initial grid\n",
      "Done in 0.0242917537689209 s \n",
      "Done in 0.024440526962280273 s \n",
      "K_list contains 18 Irreducible points(14.4%) out of initial 5x5x5=125 grid\n",
      "Done, sum of weights:1.0000000000000004\n",
      "iteration 0 - 18 points. New points are:\n",
      " K-point 0 : coord in rec.lattice = [   0.000000  ,   0.000000 ,    0.000000 ], refinement level:0, dK=[0.2 0.2 0.2]  \n",
      " K-point 1 : coord in rec.lattice = [   0.000000  ,   0.200000 ,    0.000000 ], refinement level:0, dK=[0.2 0.2 0.2]  \n",
      " K-point 2 : coord in rec.lattice = [   0.000000  ,   0.400000 ,    0.000000 ], refinement level:0, dK=[0.2 0.2 0.2]  \n",
      " K-point 3 : coord in rec.lattice = [   0.200000  ,   0.000000 ,    0.000000 ], refinement level:0, dK=[0.2 0.2 0.2]  \n",
      " K-point 4 : coord in rec.lattice = [   0.200000  ,   0.200000 ,    0.200000 ], refinement level:0, dK=[0.2 0.2 0.2]  \n",
      " K-point 5 : coord in rec.lattice = [   0.200000  ,   0.600000 ,    0.200000 ], refinement level:0, dK=[0.2 0.2 0.2]  \n",
      " K-point 6 : coord in rec.lattice = [   0.400000  ,   0.000000 ,    0.000000 ], refinement level:0, dK=[0.2 0.2 0.2]  \n",
      " K-point 7 : coord in rec.lattice = [   0.400000  ,   0.200000 ,    0.000000 ], refinement level:0, dK=[0.2 0.2 0.2]  \n",
      " K-point 8 : coord in rec.lattice = [   0.400000  ,   0.200000 ,    0.200000 ], refinement level:0, dK=[0.2 0.2 0.2]  \n",
      " K-point 9 : coord in rec.lattice = [   0.400000  ,   0.400000 ,    0.400000 ], refinement level:0, dK=[0.2 0.2 0.2]  \n",
      " K-point 10 : coord in rec.lattice = [   0.600000  ,   0.200000 ,    0.000000 ], refinement level:0, dK=[0.2 0.2 0.2]  \n",
      " K-point 11 : coord in rec.lattice = [   0.600000  ,   0.200000 ,    0.200000 ], refinement level:0, dK=[0.2 0.2 0.2]  \n",
      " K-point 12 : coord in rec.lattice = [   0.600000  ,   0.400000 ,    0.200000 ], refinement level:0, dK=[0.2 0.2 0.2]  \n",
      " K-point 13 : coord in rec.lattice = [   0.600000  ,   0.400000 ,    0.400000 ], refinement level:0, dK=[0.2 0.2 0.2]  \n",
      " K-point 14 : coord in rec.lattice = [   0.800000  ,   0.200000 ,    0.000000 ], refinement level:0, dK=[0.2 0.2 0.2]  \n",
      " K-point 15 : coord in rec.lattice = [   0.800000  ,   0.200000 ,    0.200000 ], refinement level:0, dK=[0.2 0.2 0.2]  \n",
      " K-point 16 : coord in rec.lattice = [   0.800000  ,   0.400000 ,    0.000000 ], refinement level:0, dK=[0.2 0.2 0.2]  \n",
      " K-point 17 : coord in rec.lattice = [   0.800000  ,   0.400000 ,    0.200000 ], refinement level:0, dK=[0.2 0.2 0.2]  \n",
      "symgroup : <wannierberri.symmetry.Group object at 0x7fef2a3a7b80>\n",
      "processing 18 K points : using  2 processes.\n",
      "# K-points calculated  Wall time (sec)  Est. remaining (sec)\n",
      "                   2              0.3                   2.1\n",
      "                   4              0.5                   1.7\n",
      "                   6              0.7                   1.4\n",
      "                   8              1.0                   1.2\n",
      "                  10              1.1                   0.9\n",
      "                  12              1.4                   0.7\n",
      "                  14              1.6                   0.5\n",
      "                  16              1.8                   0.2\n",
      "time for processing     18 K-points on   2 processes:     2.0729 ; per K-point          0.1152 ; proc-sec per K-point          0.2303\n",
      "time1 =  0.0012836456298828125\n",
      "time2 =  0.00812673568725586\n",
      "checking for equivalent points in all points (of new  7 points)\n",
      " excluded 0 points\n",
      "sum of weights now :1.0000000000000004\n",
      "iteration 1 - 7 points. New points are:\n",
      " K-point 18 : coord in rec.lattice = [   0.350000  ,  -0.050000 ,   -0.050000 ], refinement level:1, dK=[0.1 0.1 0.1]  \n",
      " K-point 19 : coord in rec.lattice = [   0.350000  ,  -0.050000 ,    0.050000 ], refinement level:1, dK=[0.1 0.1 0.1]  \n",
      " K-point 20 : coord in rec.lattice = [   0.350000  ,   0.050000 ,   -0.050000 ], refinement level:1, dK=[0.1 0.1 0.1]  \n",
      " K-point 21 : coord in rec.lattice = [   0.350000  ,   0.050000 ,    0.050000 ], refinement level:1, dK=[0.1 0.1 0.1]  \n",
      " K-point 22 : coord in rec.lattice = [   0.450000  ,  -0.050000 ,   -0.050000 ], refinement level:1, dK=[0.1 0.1 0.1]  \n",
      " K-point 23 : coord in rec.lattice = [   0.450000  ,  -0.050000 ,    0.050000 ], refinement level:1, dK=[0.1 0.1 0.1]  \n",
      " K-point 24 : coord in rec.lattice = [   0.450000  ,   0.050000 ,    0.050000 ], refinement level:1, dK=[0.1 0.1 0.1]  \n",
      "symgroup : <wannierberri.symmetry.Group object at 0x7fef2a3a7b80>\n",
      "processing 7 K points : using  2 processes.\n",
      "# K-points calculated  Wall time (sec)  Est. remaining (sec)\n",
      "                   2              0.3                   0.6\n",
      "                   4              0.5                   0.4\n",
      "                   6              0.7                   0.1\n",
      "time for processing      7 K-points on   2 processes:     0.9025 ; per K-point          0.1289 ; proc-sec per K-point          0.2579\n",
      "time1 =  0.0023543834686279297\n",
      "time2 =  0.00754547119140625\n",
      "checking for equivalent points in all points (of new  6 points)\n",
      " excluded 0 points\n",
      "sum of weights now :1.0000000000000004\n",
      "iteration 2 - 6 points. New points are:\n",
      " K-point 25 : coord in rec.lattice = [   0.150000  ,   0.550000 ,    0.150000 ], refinement level:1, dK=[0.1 0.1 0.1]  \n",
      " K-point 26 : coord in rec.lattice = [   0.150000  ,   0.550000 ,    0.250000 ], refinement level:1, dK=[0.1 0.1 0.1]  \n",
      " K-point 27 : coord in rec.lattice = [   0.150000  ,   0.650000 ,    0.150000 ], refinement level:1, dK=[0.1 0.1 0.1]  \n",
      " K-point 28 : coord in rec.lattice = [   0.150000  ,   0.650000 ,    0.250000 ], refinement level:1, dK=[0.1 0.1 0.1]  \n",
      " K-point 29 : coord in rec.lattice = [   0.250000  ,   0.550000 ,    0.250000 ], refinement level:1, dK=[0.1 0.1 0.1]  \n",
      " K-point 30 : coord in rec.lattice = [   0.250000  ,   0.650000 ,    0.250000 ], refinement level:1, dK=[0.1 0.1 0.1]  \n",
      "symgroup : <wannierberri.symmetry.Group object at 0x7fef2a3a7b80>\n",
      "processing 6 K points : using  2 processes.\n",
      "# K-points calculated  Wall time (sec)  Est. remaining (sec)\n",
      "                   2              0.3                   0.5\n",
      "                   4              0.5                   0.2\n",
      "time for processing      6 K-points on   2 processes:     0.7085 ; per K-point          0.1181 ; proc-sec per K-point          0.2362\n",
      "time1 =  0.0015022754669189453\n",
      "time2 =  0.0043561458587646484\n",
      "checking for equivalent points in all points (of new  6 points)\n",
      " excluded 0 points\n",
      "sum of weights now :1.0000000000000004\n",
      "iteration 3 - 6 points. New points are:\n",
      " K-point 31 : coord in rec.lattice = [   0.550000  ,   0.350000 ,    0.350000 ], refinement level:1, dK=[0.1 0.1 0.1]  \n",
      " K-point 32 : coord in rec.lattice = [   0.550000  ,   0.350000 ,    0.450000 ], refinement level:1, dK=[0.1 0.1 0.1]  \n",
      " K-point 33 : coord in rec.lattice = [   0.550000  ,   0.450000 ,    0.350000 ], refinement level:1, dK=[0.1 0.1 0.1]  \n",
      " K-point 34 : coord in rec.lattice = [   0.550000  ,   0.450000 ,    0.450000 ], refinement level:1, dK=[0.1 0.1 0.1]  \n",
      " K-point 35 : coord in rec.lattice = [   0.650000  ,   0.350000 ,    0.350000 ], refinement level:1, dK=[0.1 0.1 0.1]  \n",
      " K-point 36 : coord in rec.lattice = [   0.650000  ,   0.350000 ,    0.450000 ], refinement level:1, dK=[0.1 0.1 0.1]  \n",
      "symgroup : <wannierberri.symmetry.Group object at 0x7fef2a3a7b80>\n",
      "processing 6 K points : using  2 processes.\n",
      "# K-points calculated  Wall time (sec)  Est. remaining (sec)\n",
      "                   2              0.2                   0.4\n",
      "                   4              0.4                   0.2\n",
      "time for processing      6 K-points on   2 processes:     0.6202 ; per K-point          0.1034 ; proc-sec per K-point          0.2067\n"
     ]
    },
    {
     "name": "stdout",
     "output_type": "stream",
     "text": [
      "time1 =  0.005711078643798828\n",
      "time2 =  0.010697603225708008\n",
      "checking for equivalent points in all points (of new  5 points)\n",
      " excluded 0 points\n",
      "sum of weights now :1.0000000000000004\n",
      "iteration 4 - 4 points. New points are:\n",
      " K-point 36 : coord in rec.lattice = [   0.350000  ,   0.350000 ,    0.350000 ], refinement level:1, dK=[0.1 0.1 0.1]  \n",
      " K-point 37 : coord in rec.lattice = [   0.350000  ,   0.350000 ,    0.450000 ], refinement level:1, dK=[0.1 0.1 0.1]  \n",
      " K-point 38 : coord in rec.lattice = [   0.350000  ,   0.450000 ,    0.350000 ], refinement level:1, dK=[0.1 0.1 0.1]  \n",
      " K-point 40 : coord in rec.lattice = [   0.450000  ,   0.450000 ,    0.450000 ], refinement level:1, dK=[0.1 0.1 0.1]  \n",
      "symgroup : <wannierberri.symmetry.Group object at 0x7fef2a3a7b80>\n",
      "processing 4 K points : using  2 processes.\n",
      "# K-points calculated  Wall time (sec)  Est. remaining (sec)\n",
      "                   2              0.3                   0.3\n",
      "time for processing      4 K-points on   2 processes:     0.4334 ; per K-point          0.1083 ; proc-sec per K-point          0.2167\n",
      "time1 =  0.004769563674926758\n",
      "time2 =  0.01151728630065918\n",
      "checking for equivalent points in all points (of new  12 points)\n",
      " excluded 0 points\n",
      "sum of weights now :1.0000000000000002\n",
      "iteration 5 - 11 points. New points are:\n",
      " K-point 40 : coord in rec.lattice = [   0.425000  ,   0.425000 ,    0.425000 ], refinement level:2, dK=[0.05 0.05 0.05]  \n",
      " K-point 41 : coord in rec.lattice = [   0.425000  ,   0.425000 ,    0.475000 ], refinement level:2, dK=[0.05 0.05 0.05]  \n",
      " K-point 42 : coord in rec.lattice = [   0.425000  ,   0.475000 ,    0.425000 ], refinement level:2, dK=[0.05 0.05 0.05]  \n",
      " K-point 43 : coord in rec.lattice = [   0.475000  ,   0.425000 ,    0.475000 ], refinement level:2, dK=[0.05 0.05 0.05]  \n",
      " K-point 44 : coord in rec.lattice = [   0.475000  ,   0.475000 ,    0.475000 ], refinement level:2, dK=[0.05 0.05 0.05]  \n",
      " K-point 45 : coord in rec.lattice = [   0.150000  ,  -0.050000 ,   -0.050000 ], refinement level:1, dK=[0.1 0.1 0.1]  \n",
      " K-point 46 : coord in rec.lattice = [   0.150000  ,   0.050000 ,   -0.050000 ], refinement level:1, dK=[0.1 0.1 0.1]  \n",
      " K-point 47 : coord in rec.lattice = [   0.150000  ,   0.050000 ,    0.050000 ], refinement level:1, dK=[0.1 0.1 0.1]  \n",
      " K-point 48 : coord in rec.lattice = [   0.250000  ,  -0.050000 ,   -0.050000 ], refinement level:1, dK=[0.1 0.1 0.1]  \n",
      " K-point 50 : coord in rec.lattice = [   0.250000  ,   0.050000 ,   -0.050000 ], refinement level:1, dK=[0.1 0.1 0.1]  \n",
      " K-point 51 : coord in rec.lattice = [   0.250000  ,   0.050000 ,    0.050000 ], refinement level:1, dK=[0.1 0.1 0.1]  \n",
      "symgroup : <wannierberri.symmetry.Group object at 0x7fef2a3a7b80>\n",
      "processing 11 K points : using  2 processes.\n",
      "# K-points calculated  Wall time (sec)  Est. remaining (sec)\n",
      "                   2              0.2                   0.9\n",
      "                   4              0.4                   0.8\n",
      "                   6              0.6                   0.5\n",
      "                   8              0.8                   0.3\n",
      "                  10              1.1                   0.1\n",
      "time for processing     11 K-points on   2 processes:     1.2562 ; per K-point          0.1142 ; proc-sec per K-point          0.2284\n",
      "time1 =  0.0042150020599365234\n",
      "Totally processed 52 K-points \n"
     ]
    }
   ],
   "source": [
    "calculators = {}\n",
    "Efermi = np.linspace(12,13,101)\n",
    "omega = np.linspace(0,1.,101)\n",
    "# Set a grid \n",
    "grid = wberri.Grid(system, length=50 )   # length [ Ang] ~= 2*pi/dk\n",
    "\n",
    "calculators [\"ahc\"] = wberri.calculators.static.AHC(Efermi=Efermi)\n",
    "\n",
    "result_run = wberri.run(system,\n",
    "            grid=grid,\n",
    "            calculators = calculators,\n",
    "            parallel=parallel,\n",
    "            adpt_num_iter=5,\n",
    "            fout_name='Fe',\n",
    "            restart=False,\n",
    "            file_Klist=\"Klist_ahc.pickle\"  # needed to restart a calculation in future\n",
    "            )\n",
    "\n"
   ]
  },
  {
   "cell_type": "code",
   "execution_count": null,
   "id": "b28dca35",
   "metadata": {},
   "outputs": [],
   "source": [
    "!ls"
   ]
  },
  {
   "cell_type": "code",
   "execution_count": null,
   "id": "e154b57f",
   "metadata": {},
   "outputs": [],
   "source": [
    "#plot results from different iterations\n",
    "for i in range(5):\n",
    "    a = np.loadtxt(f\"Fe-ahc_iter-{i:04d}.dat\")\n",
    "    plt.plot(a[:,0],a[:,3],label = f\"iteration-{i}\")\n",
    "#plt.ylim(-1000,1000)\n",
    "plt.legend()\n",
    "plt.show()"
   ]
  },
  {
   "cell_type": "code",
   "execution_count": null,
   "id": "9419e309",
   "metadata": {},
   "outputs": [],
   "source": [
    "result_run = wberri.run(system,\n",
    "            grid=grid,\n",
    "            calculators = calculators,\n",
    "            parallel=parallel,\n",
    "            adpt_num_iter=10,\n",
    "            fout_name='Fe',\n",
    "            restart=True,\n",
    "            file_Klist=\"Klist_ahc.pickle\"  # needed to restart a calculation\n",
    "            )"
   ]
  },
  {
   "cell_type": "code",
   "execution_count": null,
   "id": "45ed084f",
   "metadata": {},
   "outputs": [],
   "source": [
    "#plot results from different iterations\n",
    "for i in range(10,15):\n",
    "    a = np.loadtxt(f\"Fe-ahc_iter-{i:04d}.dat\")\n",
    "    ef = a[:,0] \n",
    "    ahc_xy = a[:,3]\n",
    "    # alternatively:\n",
    "    #res = np.load(f\"Fe-ahc_iter-{i:04d}.npz\")\n",
    "    #print (list(res.keys()))\n",
    "    #ef = res[\"Energies_0\"]\n",
    "    #ahc_xy = res[\"data\"][:,2]\n",
    "    plt.plot(ef,ahc_xy,label = f\"iteration-{i}\")\n",
    "#plt.ylim(-1000,1000)\n",
    "plt.legend()\n",
    "plt.show()"
   ]
  },
  {
   "cell_type": "markdown",
   "id": "53a969c6",
   "metadata": {},
   "source": [
    "## Problem 3 : \n",
    "### start from a denser grid (length=100 or 200) and do the integration again with 20 iterations. Plot the results"
   ]
  },
  {
   "cell_type": "code",
   "execution_count": null,
   "id": "3d20fba8",
   "metadata": {},
   "outputs": [],
   "source": [
    "# insert the needed code below\n",
    "\n",
    "\n"
   ]
  },
  {
   "cell_type": "markdown",
   "id": "d30cbfe8",
   "metadata": {},
   "source": [
    "## Tetrahedron method"
   ]
  },
  {
   "cell_type": "code",
   "execution_count": null,
   "id": "71cdd870",
   "metadata": {},
   "outputs": [],
   "source": [
    "calculators = {}\n",
    "Efermi = np.linspace(12,13,101)\n",
    "omega = np.linspace(0,1.,101)\n",
    "# Set a grid \n",
    "grid = wberri.Grid(system, length=50 )   # length [ Ang] ~= 2*pi/dk\n",
    "\n",
    "calculators [\"dos_notetra\"] = wberri.calculators.static.DOS(Efermi=Efermi,tetra=False)\n",
    "calculators [\"dos_tetra\"] = wberri.calculators.static.DOS(Efermi=Efermi,tetra=True)\n",
    "\n",
    "result_run = wberri.run(system,\n",
    "            grid=grid,\n",
    "            calculators = calculators,\n",
    "            parallel=parallel,\n",
    "            adpt_num_iter=0,\n",
    "            fout_name='Fe',\n",
    "            suffix = \"run2\",\n",
    "            restart=False,\n",
    "            print_Kpoints=False\n",
    "            )\n",
    "\n",
    "a = np.loadtxt(f\"Fe-dos_notetra-run2_iter-0000.dat\")\n",
    "plt.plot(a[:,0],a[:,1],label = f\"no tetra\")\n",
    "a = np.loadtxt(f\"Fe-dos_tetra-run2_iter-0000.dat\")\n",
    "plt.plot(a[:,0],a[:,1],label = f\"tetra\")\n",
    "plt.legend()"
   ]
  },
  {
   "cell_type": "code",
   "execution_count": null,
   "id": "6aba3393",
   "metadata": {},
   "outputs": [],
   "source": [
    "!ls\n"
   ]
  },
  {
   "cell_type": "markdown",
   "id": "112fb3b9",
   "metadata": {},
   "source": [
    "## Optical conductivity"
   ]
  },
  {
   "cell_type": "code",
   "execution_count": 23,
   "id": "99dfb249",
   "metadata": {},
   "outputs": [
    {
     "name": "stdout",
     "output_type": "stream",
     "text": [
      "determining grids from NK=None (<class 'NoneType'>), NKdiv=None (<class 'NoneType'>), NKFFT=None (<class 'NoneType'>)\n",
      "length=50 was converted into NK=[25 25 25]\n",
      "Minimal symmetric FFT grid :  [4 4 4]\n",
      "The grids were set to NKdiv=[5 5 5], NKFFT=[5 5 5], NKtot=[25 25 25]\n",
      "\u001b[1m\u001b[36mcalculator not described\n",
      "\u001b[0m\n",
      "Grid is regular\n",
      "The set of k points is a Grid() with NKdiv=[5 5 5], NKFFT=[5 5 5], NKtot=[25 25 25]\n",
      "generating K_list\n",
      "Done in 0.0008444786071777344 s \n",
      "excluding symmetry-equivalent K-points from initial grid\n",
      "Done in 0.015703439712524414 s \n",
      "Done in 0.01574254035949707 s \n",
      "K_list contains 18 Irreducible points(14.4%) out of initial 5x5x5=125 grid\n",
      "Done, sum of weights:1.0000000000000004\n",
      "iteration 0 - 18 points. New points are:\n",
      " K-point 0 : coord in rec.lattice = [   0.000000  ,   0.000000 ,    0.000000 ], refinement level:0, dK=[0.2 0.2 0.2]  \n",
      " K-point 1 : coord in rec.lattice = [   0.000000  ,   0.200000 ,    0.000000 ], refinement level:0, dK=[0.2 0.2 0.2]  \n",
      " K-point 2 : coord in rec.lattice = [   0.000000  ,   0.400000 ,    0.000000 ], refinement level:0, dK=[0.2 0.2 0.2]  \n",
      " K-point 3 : coord in rec.lattice = [   0.200000  ,   0.000000 ,    0.000000 ], refinement level:0, dK=[0.2 0.2 0.2]  \n",
      " K-point 4 : coord in rec.lattice = [   0.200000  ,   0.200000 ,    0.200000 ], refinement level:0, dK=[0.2 0.2 0.2]  \n",
      " K-point 5 : coord in rec.lattice = [   0.200000  ,   0.600000 ,    0.200000 ], refinement level:0, dK=[0.2 0.2 0.2]  \n",
      " K-point 6 : coord in rec.lattice = [   0.400000  ,   0.000000 ,    0.000000 ], refinement level:0, dK=[0.2 0.2 0.2]  \n",
      " K-point 7 : coord in rec.lattice = [   0.400000  ,   0.200000 ,    0.000000 ], refinement level:0, dK=[0.2 0.2 0.2]  \n",
      " K-point 8 : coord in rec.lattice = [   0.400000  ,   0.200000 ,    0.200000 ], refinement level:0, dK=[0.2 0.2 0.2]  \n",
      " K-point 9 : coord in rec.lattice = [   0.400000  ,   0.400000 ,    0.400000 ], refinement level:0, dK=[0.2 0.2 0.2]  \n",
      " K-point 10 : coord in rec.lattice = [   0.600000  ,   0.200000 ,    0.000000 ], refinement level:0, dK=[0.2 0.2 0.2]  \n",
      " K-point 11 : coord in rec.lattice = [   0.600000  ,   0.200000 ,    0.200000 ], refinement level:0, dK=[0.2 0.2 0.2]  \n",
      " K-point 12 : coord in rec.lattice = [   0.600000  ,   0.400000 ,    0.200000 ], refinement level:0, dK=[0.2 0.2 0.2]  \n",
      " K-point 13 : coord in rec.lattice = [   0.600000  ,   0.400000 ,    0.400000 ], refinement level:0, dK=[0.2 0.2 0.2]  \n",
      " K-point 14 : coord in rec.lattice = [   0.800000  ,   0.200000 ,    0.000000 ], refinement level:0, dK=[0.2 0.2 0.2]  \n",
      " K-point 15 : coord in rec.lattice = [   0.800000  ,   0.200000 ,    0.200000 ], refinement level:0, dK=[0.2 0.2 0.2]  \n",
      " K-point 16 : coord in rec.lattice = [   0.800000  ,   0.400000 ,    0.000000 ], refinement level:0, dK=[0.2 0.2 0.2]  \n",
      " K-point 17 : coord in rec.lattice = [   0.800000  ,   0.400000 ,    0.200000 ], refinement level:0, dK=[0.2 0.2 0.2]  \n",
      "symgroup : <wannierberri.symmetry.Group object at 0x7fef2a3a7b80>\n",
      "processing 18 K points : using  2 processes.\n",
      "# K-points calculated  Wall time (sec)  Est. remaining (sec)\n",
      "                   2              2.5                  20.3\n",
      "                   4              4.9                  17.3\n",
      "                   6              7.3                  14.6\n",
      "                   8              9.6                  12.0\n",
      "                  10             11.9                   9.5\n",
      "                  12             14.2                   7.1\n",
      "                  14             16.4                   4.7\n",
      "                  16             18.2                   2.3\n",
      "time for processing     18 K-points on   2 processes:    21.9609 ; per K-point          1.2201 ; proc-sec per K-point          2.4401\n",
      "time1 =  0.02203655242919922\n",
      "Totally processed 18 K-points \n"
     ]
    }
   ],
   "source": [
    "calculators = {}\n",
    "Efermi = np.linspace(12,13,101)\n",
    "omega = np.linspace(0,1.,101)\n",
    "# Set a grid \n",
    "grid = wberri.Grid(system, length=50 )   # length [ Ang] ~= 2*pi/dk\n",
    "\n",
    "calculators[\"opt_conductivity\"] = wberri.calculators.dynamic.OpticalConductivity(\n",
    "                            Efermi=Efermi,omega=omega)\n",
    "\n",
    "\n",
    "result_run_opt = wberri.run(system,\n",
    "            grid=grid,\n",
    "            calculators = calculators,\n",
    "            parallel=parallel,\n",
    "            adpt_num_iter=0,\n",
    "            fout_name='Fe',\n",
    "            suffix = \"run3\",\n",
    "            restart=False,\n",
    "            )"
   ]
  },
  {
   "cell_type": "code",
   "execution_count": 24,
   "id": "8329a5b4",
   "metadata": {},
   "outputs": [
    {
     "name": "stdout",
     "output_type": "stream",
     "text": [
      "(101, 101, 3, 3)\n",
      "[12.   12.01 12.02 12.03 12.04 12.05 12.06 12.07 12.08 12.09 12.1  12.11\n",
      " 12.12 12.13 12.14 12.15 12.16 12.17 12.18 12.19 12.2  12.21 12.22 12.23\n",
      " 12.24 12.25 12.26 12.27 12.28 12.29 12.3  12.31 12.32 12.33 12.34 12.35\n",
      " 12.36 12.37 12.38 12.39 12.4  12.41 12.42 12.43 12.44 12.45 12.46 12.47\n",
      " 12.48 12.49 12.5  12.51 12.52 12.53 12.54 12.55 12.56 12.57 12.58 12.59\n",
      " 12.6  12.61 12.62 12.63 12.64 12.65 12.66 12.67 12.68 12.69 12.7  12.71\n",
      " 12.72 12.73 12.74 12.75 12.76 12.77 12.78 12.79 12.8  12.81 12.82 12.83\n",
      " 12.84 12.85 12.86 12.87 12.88 12.89 12.9  12.91 12.92 12.93 12.94 12.95\n",
      " 12.96 12.97 12.98 12.99 13.  ]\n",
      "[0.   0.01 0.02 0.03 0.04 0.05 0.06 0.07 0.08 0.09 0.1  0.11 0.12 0.13\n",
      " 0.14 0.15 0.16 0.17 0.18 0.19 0.2  0.21 0.22 0.23 0.24 0.25 0.26 0.27\n",
      " 0.28 0.29 0.3  0.31 0.32 0.33 0.34 0.35 0.36 0.37 0.38 0.39 0.4  0.41\n",
      " 0.42 0.43 0.44 0.45 0.46 0.47 0.48 0.49 0.5  0.51 0.52 0.53 0.54 0.55\n",
      " 0.56 0.57 0.58 0.59 0.6  0.61 0.62 0.63 0.64 0.65 0.66 0.67 0.68 0.69\n",
      " 0.7  0.71 0.72 0.73 0.74 0.75 0.76 0.77 0.78 0.79 0.8  0.81 0.82 0.83\n",
      " 0.84 0.85 0.86 0.87 0.88 0.89 0.9  0.91 0.92 0.93 0.94 0.95 0.96 0.97\n",
      " 0.98 0.99 1.  ]\n"
     ]
    },
    {
     "ename": "NameError",
     "evalue": "name 'data' is not defined",
     "output_type": "error",
     "traceback": [
      "\u001b[0;31m---------------------------------------------------------------------------\u001b[0m",
      "\u001b[0;31mNameError\u001b[0m                                 Traceback (most recent call last)",
      "Input \u001b[0;32mIn [24]\u001b[0m, in \u001b[0;36m<cell line: 9>\u001b[0;34m()\u001b[0m\n\u001b[1;32m      7\u001b[0m \u001b[38;5;66;03m# plot at fixed omega\u001b[39;00m\n\u001b[1;32m      8\u001b[0m iw \u001b[38;5;241m=\u001b[39m \u001b[38;5;241m10\u001b[39m\n\u001b[0;32m----> 9\u001b[0m plt\u001b[38;5;241m.\u001b[39mplot(res\u001b[38;5;241m.\u001b[39mEnergies[\u001b[38;5;241m0\u001b[39m],\u001b[43mdata\u001b[49m[:,iw,\u001b[38;5;241m2\u001b[39m,\u001b[38;5;241m2\u001b[39m]\u001b[38;5;241m.\u001b[39mimag)\n\u001b[1;32m     10\u001b[0m plt\u001b[38;5;241m.\u001b[39mshow()\n\u001b[1;32m     12\u001b[0m \u001b[38;5;66;03m# plot at fixed Efermi\u001b[39;00m\n",
      "\u001b[0;31mNameError\u001b[0m: name 'data' is not defined"
     ]
    }
   ],
   "source": [
    "#plot results from new iterations\n",
    "res = result_run_opt.results[\"opt_conductivity\"]\n",
    "print (res.data.shape)\n",
    "print (res.Energies[0]) # Efermi\n",
    "print (res.Energies[1]) # omega\n",
    "\n",
    "# plot at fixed omega\n",
    "iw = 10\n",
    "plt.plot(res.Energies[0],data[:,iw,2,2].imag)\n",
    "plt.show()\n",
    "\n",
    "# plot at fixed Efermi\n",
    "ief = 20\n",
    "plt.plot(res.Energies[1],data[ief,:,2,2].imag)\n",
    "plt.show()\n"
   ]
  },
  {
   "cell_type": "code",
   "execution_count": null,
   "id": "32eac680",
   "metadata": {},
   "outputs": [],
   "source": [
    "!ls"
   ]
  },
  {
   "cell_type": "markdown",
   "id": "c6e1e75c",
   "metadata": {},
   "source": [
    "## All in one"
   ]
  },
  {
   "cell_type": "code",
   "execution_count": null,
   "id": "3cefde7e",
   "metadata": {},
   "outputs": [],
   "source": [
    "calculators = {}\n",
    "Efermi = np.linspace(12,13,101)\n",
    "omega = np.linspace(0,1.,101)\n",
    "# Set a grid \n",
    "grid = wberri.Grid(system, length=50 )   # length [ Ang] ~= 2*pi/dk\n",
    "\n",
    "calculators [\"ahc_notetra\"] = wberri.calculators.static.AHC(Efermi=Efermi,tetra=False)\n",
    "calculators [\"ahc_tetra\"] = wberri.calculators.static.AHC(Efermi=Efermi,tetra=True)\n",
    "calculators [\"tabulate\"] = wberri.calculators.TabulatorAll({\n",
    "                            \"Energy\":wberri.calculators.tabulate.Energy(),\n",
    "                            \"berry\":wberri.calculators.tabulate.BerryCurvature(),\n",
    "                                  },   \n",
    "                            ibands = np.arange(4,10))\n",
    "calculators[\"opt_conductivity\"] = wberri.calculators.dynamic.OpticalConductivity(\n",
    "                            Efermi=Efermi,omega=omega)\n",
    "\n",
    "\n",
    "result_run = wberri.run(system,\n",
    "            grid=grid,\n",
    "            calculators = calculators,\n",
    "            parallel=parallel,\n",
    "            adpt_num_iter=0,\n",
    "            fout_name='Fe',\n",
    "            suffix = \"run\",\n",
    "            restart=False,\n",
    "            )"
   ]
  },
  {
   "cell_type": "code",
   "execution_count": null,
   "id": "e23fb6c7",
   "metadata": {},
   "outputs": [],
   "source": []
  }
 ],
 "metadata": {
  "kernelspec": {
   "display_name": "Python 3",
   "language": "python",
   "name": "python3"
  },
  "language_info": {
   "codemirror_mode": {
    "name": "ipython",
    "version": 3
   },
   "file_extension": ".py",
   "mimetype": "text/x-python",
   "name": "python",
   "nbconvert_exporter": "python",
   "pygments_lexer": "ipython3",
   "version": "3.8.5"
  }
 },
 "nbformat": 4,
 "nbformat_minor": 5
}
